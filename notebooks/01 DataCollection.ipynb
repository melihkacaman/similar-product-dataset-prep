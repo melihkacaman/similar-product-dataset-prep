{
 "cells": [
  {
   "attachments": {},
   "cell_type": "markdown",
   "metadata": {},
   "source": [
    "# Top Items "
   ]
  },
  {
   "cell_type": "code",
   "execution_count": 131,
   "metadata": {},
   "outputs": [
    {
     "data": {
      "text/plain": [
       "((2761, 8), (446, 8), (1402, 8))"
      ]
     },
     "execution_count": 131,
     "metadata": {},
     "output_type": "execute_result"
    }
   ],
   "source": [
    "import pandas as pd \n",
    "\n",
    "train_df = pd.read_csv(\"../datasets/clothes detect.v5i.tensorflow/train/_annotations.csv\") \n",
    "val_df = pd.read_csv(\"../datasets/clothes detect.v5i.tensorflow/valid/_annotations.csv\") \n",
    "test_df = pd.read_csv(\"../datasets/clothes detect.v5i.tensorflow/test/_annotations.csv\")  \n",
    "\n",
    "train_df.shape, val_df.shape, test_df.shape "
   ]
  },
  {
   "cell_type": "code",
   "execution_count": 132,
   "metadata": {},
   "outputs": [
    {
     "data": {
      "text/plain": [
       "(4609, 8)"
      ]
     },
     "execution_count": 132,
     "metadata": {},
     "output_type": "execute_result"
    }
   ],
   "source": [
    "data1_df = pd.concat([train_df, val_df, test_df]).reset_index(drop=True) \n",
    "data1_df.shape "
   ]
  },
  {
   "cell_type": "code",
   "execution_count": 133,
   "metadata": {},
   "outputs": [
    {
     "data": {
      "text/html": [
       "<div>\n",
       "<style scoped>\n",
       "    .dataframe tbody tr th:only-of-type {\n",
       "        vertical-align: middle;\n",
       "    }\n",
       "\n",
       "    .dataframe tbody tr th {\n",
       "        vertical-align: top;\n",
       "    }\n",
       "\n",
       "    .dataframe thead th {\n",
       "        text-align: right;\n",
       "    }\n",
       "</style>\n",
       "<table border=\"1\" class=\"dataframe\">\n",
       "  <thead>\n",
       "    <tr style=\"text-align: right;\">\n",
       "      <th></th>\n",
       "      <th>filename</th>\n",
       "      <th>width</th>\n",
       "      <th>height</th>\n",
       "      <th>class</th>\n",
       "      <th>xmin</th>\n",
       "      <th>ymin</th>\n",
       "      <th>xmax</th>\n",
       "      <th>ymax</th>\n",
       "    </tr>\n",
       "  </thead>\n",
       "  <tbody>\n",
       "    <tr>\n",
       "      <th>0</th>\n",
       "      <td>k211_jpg.rf.877137c915b2482e484056ceaa59f9a7.jpg</td>\n",
       "      <td>285</td>\n",
       "      <td>380</td>\n",
       "      <td>plain</td>\n",
       "      <td>99</td>\n",
       "      <td>53</td>\n",
       "      <td>264</td>\n",
       "      <td>306</td>\n",
       "    </tr>\n",
       "    <tr>\n",
       "      <th>1</th>\n",
       "      <td>g305_jpg.rf.8799784c02465ca48d0ca77460bb92fe.jpg</td>\n",
       "      <td>225</td>\n",
       "      <td>225</td>\n",
       "      <td>horizontal</td>\n",
       "      <td>30</td>\n",
       "      <td>7</td>\n",
       "      <td>191</td>\n",
       "      <td>187</td>\n",
       "    </tr>\n",
       "    <tr>\n",
       "      <th>2</th>\n",
       "      <td>e91_jpg.rf.87b04f7c00b5a8b7c288f79404684f5b.jpg</td>\n",
       "      <td>177</td>\n",
       "      <td>177</td>\n",
       "      <td>plaid</td>\n",
       "      <td>8</td>\n",
       "      <td>7</td>\n",
       "      <td>174</td>\n",
       "      <td>166</td>\n",
       "    </tr>\n",
       "    <tr>\n",
       "      <th>3</th>\n",
       "      <td>e293_jpg.rf.87c79d8c516672c91e9c8fca3c46bb48.jpg</td>\n",
       "      <td>198</td>\n",
       "      <td>254</td>\n",
       "      <td>plaid</td>\n",
       "      <td>5</td>\n",
       "      <td>19</td>\n",
       "      <td>189</td>\n",
       "      <td>226</td>\n",
       "    </tr>\n",
       "    <tr>\n",
       "      <th>4</th>\n",
       "      <td>i195_jpg.rf.87c9b5a0e68c7a5bfb6f6d40a8cf8352.jpg</td>\n",
       "      <td>206</td>\n",
       "      <td>244</td>\n",
       "      <td>plaid</td>\n",
       "      <td>15</td>\n",
       "      <td>13</td>\n",
       "      <td>195</td>\n",
       "      <td>228</td>\n",
       "    </tr>\n",
       "  </tbody>\n",
       "</table>\n",
       "</div>"
      ],
      "text/plain": [
       "                                           filename  width  height  \\\n",
       "0  k211_jpg.rf.877137c915b2482e484056ceaa59f9a7.jpg    285     380   \n",
       "1  g305_jpg.rf.8799784c02465ca48d0ca77460bb92fe.jpg    225     225   \n",
       "2   e91_jpg.rf.87b04f7c00b5a8b7c288f79404684f5b.jpg    177     177   \n",
       "3  e293_jpg.rf.87c79d8c516672c91e9c8fca3c46bb48.jpg    198     254   \n",
       "4  i195_jpg.rf.87c9b5a0e68c7a5bfb6f6d40a8cf8352.jpg    206     244   \n",
       "\n",
       "        class  xmin  ymin  xmax  ymax  \n",
       "0       plain    99    53   264   306  \n",
       "1  horizontal    30     7   191   187  \n",
       "2       plaid     8     7   174   166  \n",
       "3       plaid     5    19   189   226  \n",
       "4       plaid    15    13   195   228  "
      ]
     },
     "execution_count": 133,
     "metadata": {},
     "output_type": "execute_result"
    }
   ],
   "source": [
    "data1_df.head() "
   ]
  },
  {
   "cell_type": "code",
   "execution_count": 134,
   "metadata": {},
   "outputs": [
    {
     "data": {
      "text/plain": [
       "plain         1049\n",
       "plaid         1010\n",
       "horizontal     960\n",
       "vertical       808\n",
       "block          782\n",
       "Name: class, dtype: int64"
      ]
     },
     "execution_count": 134,
     "metadata": {},
     "output_type": "execute_result"
    }
   ],
   "source": [
    "data1_df['class'].value_counts() "
   ]
  },
  {
   "cell_type": "code",
   "execution_count": 135,
   "metadata": {},
   "outputs": [
    {
     "data": {
      "text/html": [
       "<div>\n",
       "<style scoped>\n",
       "    .dataframe tbody tr th:only-of-type {\n",
       "        vertical-align: middle;\n",
       "    }\n",
       "\n",
       "    .dataframe tbody tr th {\n",
       "        vertical-align: top;\n",
       "    }\n",
       "\n",
       "    .dataframe thead th {\n",
       "        text-align: right;\n",
       "    }\n",
       "</style>\n",
       "<table border=\"1\" class=\"dataframe\">\n",
       "  <thead>\n",
       "    <tr style=\"text-align: right;\">\n",
       "      <th></th>\n",
       "      <th>filename</th>\n",
       "      <th>width</th>\n",
       "      <th>height</th>\n",
       "      <th>class</th>\n",
       "      <th>xmin</th>\n",
       "      <th>ymin</th>\n",
       "      <th>xmax</th>\n",
       "      <th>ymax</th>\n",
       "    </tr>\n",
       "  </thead>\n",
       "  <tbody>\n",
       "    <tr>\n",
       "      <th>4123</th>\n",
       "      <td>c124_jpg.rf.119adb42ea49efc79b5518e020a7d1d1.jpg</td>\n",
       "      <td>210</td>\n",
       "      <td>240</td>\n",
       "      <td>plain</td>\n",
       "      <td>2</td>\n",
       "      <td>2</td>\n",
       "      <td>209</td>\n",
       "      <td>237</td>\n",
       "    </tr>\n",
       "    <tr>\n",
       "      <th>2112</th>\n",
       "      <td>b350_jpg.rf.4b23ac9e64a388a26095edc764234d69.jpg</td>\n",
       "      <td>191</td>\n",
       "      <td>264</td>\n",
       "      <td>plain</td>\n",
       "      <td>21</td>\n",
       "      <td>74</td>\n",
       "      <td>178</td>\n",
       "      <td>253</td>\n",
       "    </tr>\n",
       "    <tr>\n",
       "      <th>1845</th>\n",
       "      <td>k101_jpg.rf.3441fd4bd8d0dcb900f81f62b5968351.jpg</td>\n",
       "      <td>225</td>\n",
       "      <td>225</td>\n",
       "      <td>plain</td>\n",
       "      <td>44</td>\n",
       "      <td>71</td>\n",
       "      <td>156</td>\n",
       "      <td>182</td>\n",
       "    </tr>\n",
       "    <tr>\n",
       "      <th>657</th>\n",
       "      <td>c230_jpg.rf.070b98a3c4ea096ec54eda500b8a6101.jpg</td>\n",
       "      <td>225</td>\n",
       "      <td>225</td>\n",
       "      <td>plain</td>\n",
       "      <td>32</td>\n",
       "      <td>23</td>\n",
       "      <td>193</td>\n",
       "      <td>191</td>\n",
       "    </tr>\n",
       "    <tr>\n",
       "      <th>938</th>\n",
       "      <td>k58_jpg.rf.f7bd13391fa0aa4e8b98c0cb9d3876a9.jpg</td>\n",
       "      <td>183</td>\n",
       "      <td>275</td>\n",
       "      <td>plain</td>\n",
       "      <td>38</td>\n",
       "      <td>58</td>\n",
       "      <td>148</td>\n",
       "      <td>175</td>\n",
       "    </tr>\n",
       "  </tbody>\n",
       "</table>\n",
       "</div>"
      ],
      "text/plain": [
       "                                              filename width height  class  \\\n",
       "4123  c124_jpg.rf.119adb42ea49efc79b5518e020a7d1d1.jpg   210    240  plain   \n",
       "2112  b350_jpg.rf.4b23ac9e64a388a26095edc764234d69.jpg   191    264  plain   \n",
       "1845  k101_jpg.rf.3441fd4bd8d0dcb900f81f62b5968351.jpg   225    225  plain   \n",
       "657   c230_jpg.rf.070b98a3c4ea096ec54eda500b8a6101.jpg   225    225  plain   \n",
       "938    k58_jpg.rf.f7bd13391fa0aa4e8b98c0cb9d3876a9.jpg   183    275  plain   \n",
       "\n",
       "     xmin ymin xmax ymax  \n",
       "4123    2    2  209  237  \n",
       "2112   21   74  178  253  \n",
       "1845   44   71  156  182  \n",
       "657    32   23  193  191  \n",
       "938    38   58  148  175  "
      ]
     },
     "execution_count": 135,
     "metadata": {},
     "output_type": "execute_result"
    }
   ],
   "source": [
    "top_df = pd.DataFrame(columns=data1_df.columns) \n",
    "for idx in data1_df['class'].value_counts().index: \n",
    "    top_df = pd.concat([\n",
    "        top_df, \n",
    "        data1_df[data1_df['class'] == idx].sample(n=600)\n",
    "    ])\n",
    "\n",
    "top_df.head() "
   ]
  },
  {
   "cell_type": "code",
   "execution_count": 136,
   "metadata": {},
   "outputs": [
    {
     "data": {
      "text/plain": [
       "plain         600\n",
       "plaid         600\n",
       "horizontal    600\n",
       "vertical      600\n",
       "block         600\n",
       "Name: class, dtype: int64"
      ]
     },
     "execution_count": 136,
     "metadata": {},
     "output_type": "execute_result"
    }
   ],
   "source": [
    "top_df['class'].value_counts() "
   ]
  },
  {
   "cell_type": "code",
   "execution_count": 137,
   "metadata": {},
   "outputs": [],
   "source": [
    "top_df[\"class\"] = \"top\" "
   ]
  },
  {
   "cell_type": "code",
   "execution_count": 138,
   "metadata": {},
   "outputs": [],
   "source": [
    "top_df = top_df.sample(frac=1)"
   ]
  },
  {
   "attachments": {},
   "cell_type": "markdown",
   "metadata": {},
   "source": [
    "# Bottom Items \n",
    "- new_clothesYOLO.v1-clothing_pascal_yolo_2022-04-22.tensorflow"
   ]
  },
  {
   "cell_type": "code",
   "execution_count": 139,
   "metadata": {},
   "outputs": [
    {
     "data": {
      "text/plain": [
       "((323, 8), (87, 8), (47, 8))"
      ]
     },
     "execution_count": 139,
     "metadata": {},
     "output_type": "execute_result"
    }
   ],
   "source": [
    "train_df = pd.read_csv(\"../datasets/new_clothesYOLO.v1-clothing_pascal_yolo_2022-04-22.tensorflow/train/_annotations.csv\")\n",
    "val_df = pd.read_csv(\"../datasets/new_clothesYOLO.v1-clothing_pascal_yolo_2022-04-22.tensorflow/valid/_annotations.csv\")\n",
    "test_df = pd.read_csv(\"../datasets/new_clothesYOLO.v1-clothing_pascal_yolo_2022-04-22.tensorflow/test/_annotations.csv\")\n",
    "\n",
    "train_df.shape, val_df.shape, test_df.shape"
   ]
  },
  {
   "cell_type": "code",
   "execution_count": 140,
   "metadata": {},
   "outputs": [],
   "source": [
    "data2_df = pd.concat([\n",
    "    train_df, \n",
    "    val_df, \n",
    "    test_df\n",
    "])"
   ]
  },
  {
   "cell_type": "code",
   "execution_count": 141,
   "metadata": {},
   "outputs": [
    {
     "data": {
      "text/plain": [
       "Tops          54\n",
       "Jeans         54\n",
       "Trousers      54\n",
       "Shirts        53\n",
       "Skirts        53\n",
       "sunglasses    49\n",
       "Jackets       49\n",
       "Tshirts       46\n",
       "Shoes         45\n",
       "Name: class, dtype: int64"
      ]
     },
     "execution_count": 141,
     "metadata": {},
     "output_type": "execute_result"
    }
   ],
   "source": [
    "data2_df[\"class\"].value_counts() "
   ]
  },
  {
   "cell_type": "code",
   "execution_count": 142,
   "metadata": {},
   "outputs": [
    {
     "data": {
      "text/plain": [
       "((54, 8), (53, 8), (54, 8))"
      ]
     },
     "execution_count": 142,
     "metadata": {},
     "output_type": "execute_result"
    }
   ],
   "source": [
    "data2_df[data2_df[\"class\"] == \"Jeans\"].shape, data2_df[data2_df[\"class\"] == \"Skirts\"].shape, data2_df[data2_df[\"class\"] == \"Trousers\"].shape, "
   ]
  },
  {
   "cell_type": "code",
   "execution_count": 143,
   "metadata": {},
   "outputs": [],
   "source": [
    "data2_df = data2_df[data2_df[\"class\"].isin([\"Jeans\", \"Skirts\", \"Trousers\"])]"
   ]
  },
  {
   "attachments": {},
   "cell_type": "markdown",
   "metadata": {},
   "source": [
    "- Kursach.v3i.tensorflow"
   ]
  },
  {
   "cell_type": "code",
   "execution_count": 144,
   "metadata": {},
   "outputs": [
    {
     "data": {
      "text/plain": [
       "((19158, 8), (1592, 8), (459, 8))"
      ]
     },
     "execution_count": 144,
     "metadata": {},
     "output_type": "execute_result"
    }
   ],
   "source": [
    "train_df = pd.read_csv(\"../datasets/Kursach.v3i.tensorflow/train/_annotations.csv\")\n",
    "val_df = pd.read_csv(\"../datasets/Kursach.v3i.tensorflow/valid/_annotations.csv\")\n",
    "test_df = pd.read_csv(\"../datasets/Kursach.v3i.tensorflow/test/_annotations.csv\")\n",
    "\n",
    "train_df.shape, val_df.shape, test_df.shape"
   ]
  },
  {
   "cell_type": "code",
   "execution_count": 145,
   "metadata": {},
   "outputs": [
    {
     "data": {
      "text/plain": [
       "(21209, 8)"
      ]
     },
     "execution_count": 145,
     "metadata": {},
     "output_type": "execute_result"
    }
   ],
   "source": [
    "data3_df = pd.concat([\n",
    "    train_df, \n",
    "    val_df, \n",
    "    test_df\n",
    "])\n",
    "\n",
    "data3_df.shape "
   ]
  },
  {
   "cell_type": "code",
   "execution_count": 146,
   "metadata": {},
   "outputs": [
    {
     "data": {
      "text/plain": [
       "((326, 8), (2077, 8), (4, 8), (84, 8))"
      ]
     },
     "execution_count": 146,
     "metadata": {},
     "output_type": "execute_result"
    }
   ],
   "source": [
    "data3_df[data3_df[\"class\"] == 'pans'].shape, data3_df[data3_df[\"class\"] == 'pantalones'].shape, data3_df[data3_df[\"class\"] == 'leggins'].shape,  data3_df[data3_df[\"class\"] == 'short'].shape,"
   ]
  },
  {
   "cell_type": "code",
   "execution_count": 147,
   "metadata": {},
   "outputs": [
    {
     "data": {
      "text/plain": [
       "(2326, 8)"
      ]
     },
     "execution_count": 147,
     "metadata": {},
     "output_type": "execute_result"
    }
   ],
   "source": [
    "data2_df = pd.concat([\n",
    "    data2_df,\n",
    "    data3_df[data3_df[\"class\"] == 'pantalones'],\n",
    "    data3_df[data3_df[\"class\"] == 'leggins'],\n",
    "    data3_df[data3_df[\"class\"] == 'short']\n",
    "]) \n",
    "\n",
    "data2_df.shape "
   ]
  },
  {
   "attachments": {},
   "cell_type": "markdown",
   "metadata": {},
   "source": [
    "- 1.v2i.tensorflow"
   ]
  },
  {
   "cell_type": "code",
   "execution_count": 148,
   "metadata": {},
   "outputs": [
    {
     "data": {
      "text/plain": [
       "((1593, 8), (934, 8))"
      ]
     },
     "execution_count": 148,
     "metadata": {},
     "output_type": "execute_result"
    }
   ],
   "source": [
    "train_df = pd.read_csv(\"../datasets/1.v2i.tensorflow/train/_annotations.csv\")\n",
    "test_df = pd.read_csv(\"../datasets/1.v2i.tensorflow/test/_annotations.csv\")\n",
    "\n",
    "train_df.shape, test_df.shape"
   ]
  },
  {
   "cell_type": "code",
   "execution_count": 149,
   "metadata": {},
   "outputs": [
    {
     "data": {
      "text/plain": [
       "(2527, 8)"
      ]
     },
     "execution_count": 149,
     "metadata": {},
     "output_type": "execute_result"
    }
   ],
   "source": [
    "data4_df = pd.concat([\n",
    "    train_df, \n",
    "    test_df\n",
    "])\n",
    "\n",
    "data4_df.shape "
   ]
  },
  {
   "cell_type": "code",
   "execution_count": 150,
   "metadata": {},
   "outputs": [
    {
     "data": {
      "text/plain": [
       "shoes                 547\n",
       "halfsleeve_t-shirt    284\n",
       "fullsleeve_hoodies    251\n",
       "red_party_wear        250\n",
       "blue_party_wear       239\n",
       "sleeveless            168\n",
       "women                 147\n",
       "roundneck             114\n",
       "blue_denim            106\n",
       "men                    89\n",
       "black_pants            69\n",
       "black_suit             56\n",
       "vneck                  55\n",
       "grey_suit              45\n",
       "brown_suit             44\n",
       "blue_suit              36\n",
       "yellow_suit            23\n",
       "denim                   2\n",
       "black_denim             1\n",
       "gery_suit               1\n",
       "Name: class, dtype: int64"
      ]
     },
     "execution_count": 150,
     "metadata": {},
     "output_type": "execute_result"
    }
   ],
   "source": [
    "data4_df[\"class\"].value_counts() "
   ]
  },
  {
   "cell_type": "code",
   "execution_count": 151,
   "metadata": {},
   "outputs": [
    {
     "data": {
      "text/plain": [
       "(2503, 8)"
      ]
     },
     "execution_count": 151,
     "metadata": {},
     "output_type": "execute_result"
    }
   ],
   "source": [
    "data2_df = pd.concat([\n",
    "    data2_df, \n",
    "    data4_df[data4_df[\"class\"].isin([\"blue_denim\", \"black_pants\", \"denim\"])] \n",
    "])\n",
    "\n",
    "data2_df.shape "
   ]
  },
  {
   "attachments": {},
   "cell_type": "markdown",
   "metadata": {},
   "source": [
    "- task1.v2i.tensorflow"
   ]
  },
  {
   "cell_type": "code",
   "execution_count": 152,
   "metadata": {},
   "outputs": [
    {
     "data": {
      "text/plain": [
       "((2125, 8), (232, 8), (125, 8))"
      ]
     },
     "execution_count": 152,
     "metadata": {},
     "output_type": "execute_result"
    }
   ],
   "source": [
    "train_df = pd.read_csv(\"../datasets/task1.v2i.tensorflow/train/_annotations.csv\")\n",
    "val_df = pd.read_csv(\"../datasets/task1.v2i.tensorflow/valid/_annotations.csv\")\n",
    "test_df = pd.read_csv(\"../datasets/task1.v2i.tensorflow/test/_annotations.csv\")\n",
    "\n",
    "train_df.shape, val_df.shape, test_df.shape"
   ]
  },
  {
   "cell_type": "code",
   "execution_count": 153,
   "metadata": {},
   "outputs": [
    {
     "data": {
      "text/plain": [
       "(2482, 8)"
      ]
     },
     "execution_count": 153,
     "metadata": {},
     "output_type": "execute_result"
    }
   ],
   "source": [
    "data5_df = pd.concat([\n",
    "    train_df, \n",
    "    val_df, \n",
    "    test_df\n",
    "])\n",
    "\n",
    "data5_df.shape "
   ]
  },
  {
   "cell_type": "code",
   "execution_count": 154,
   "metadata": {},
   "outputs": [
    {
     "data": {
      "text/plain": [
       "cabinet         300\n",
       "monitor         245\n",
       "orange-pants    239\n",
       "white-pants     237\n",
       "purple-pants    213\n",
       "black-pants     212\n",
       "blue-pants      211\n",
       "red-pants       211\n",
       "yellow-pants    206\n",
       "green-pants     204\n",
       "grey-pants      204\n",
       "Name: class, dtype: int64"
      ]
     },
     "execution_count": 154,
     "metadata": {},
     "output_type": "execute_result"
    }
   ],
   "source": [
    "data5_df[\"class\"].value_counts()"
   ]
  },
  {
   "cell_type": "code",
   "execution_count": 155,
   "metadata": {},
   "outputs": [],
   "source": [
    "data5_df = data5_df[data5_df[\"class\"].isin(list(filter(lambda x: \"pants\" in x ,data5_df[\"class\"].value_counts().index.to_numpy())))] "
   ]
  },
  {
   "cell_type": "code",
   "execution_count": 156,
   "metadata": {},
   "outputs": [
    {
     "data": {
      "text/plain": [
       "(3103, 8)"
      ]
     },
     "execution_count": 156,
     "metadata": {},
     "output_type": "execute_result"
    }
   ],
   "source": [
    "data2_df = pd.concat([\n",
    "    data2_df,\n",
    "    data5_df.sample(n=600)    \n",
    "])\n",
    "\n",
    "data2_df.shape "
   ]
  },
  {
   "cell_type": "code",
   "execution_count": 157,
   "metadata": {},
   "outputs": [],
   "source": [
    "data2_df[\"class\"] = \"bottom\" "
   ]
  },
  {
   "cell_type": "code",
   "execution_count": 158,
   "metadata": {},
   "outputs": [],
   "source": [
    "bottom_data = data2_df.sample(frac=1)"
   ]
  },
  {
   "attachments": {},
   "cell_type": "markdown",
   "metadata": {},
   "source": [
    "# Dress Items "
   ]
  },
  {
   "cell_type": "markdown",
   "metadata": {},
   "source": [
    "- 1.v2i.tensorflow"
   ]
  },
  {
   "cell_type": "code",
   "execution_count": 159,
   "metadata": {},
   "outputs": [
    {
     "data": {
      "text/plain": [
       "((1593, 8), (934, 8))"
      ]
     },
     "execution_count": 159,
     "metadata": {},
     "output_type": "execute_result"
    }
   ],
   "source": [
    "train_df = pd.read_csv(\"../datasets/1.v2i.tensorflow/train/_annotations.csv\")\n",
    "test_df = pd.read_csv(\"../datasets/1.v2i.tensorflow/test/_annotations.csv\")\n",
    "\n",
    "train_df.shape, test_df.shape"
   ]
  },
  {
   "cell_type": "code",
   "execution_count": 160,
   "metadata": {},
   "outputs": [
    {
     "data": {
      "text/plain": [
       "(2527, 8)"
      ]
     },
     "execution_count": 160,
     "metadata": {},
     "output_type": "execute_result"
    }
   ],
   "source": [
    "data_dress_1 = pd.concat([train_df, \n",
    "                          test_df]) \n",
    "data_dress_1.shape "
   ]
  },
  {
   "cell_type": "code",
   "execution_count": 161,
   "metadata": {},
   "outputs": [
    {
     "data": {
      "text/plain": [
       "shoes                 547\n",
       "halfsleeve_t-shirt    284\n",
       "fullsleeve_hoodies    251\n",
       "red_party_wear        250\n",
       "blue_party_wear       239\n",
       "sleeveless            168\n",
       "women                 147\n",
       "roundneck             114\n",
       "blue_denim            106\n",
       "men                    89\n",
       "black_pants            69\n",
       "black_suit             56\n",
       "vneck                  55\n",
       "grey_suit              45\n",
       "brown_suit             44\n",
       "blue_suit              36\n",
       "yellow_suit            23\n",
       "denim                   2\n",
       "black_denim             1\n",
       "gery_suit               1\n",
       "Name: class, dtype: int64"
      ]
     },
     "execution_count": 161,
     "metadata": {},
     "output_type": "execute_result"
    }
   ],
   "source": [
    "data_dress_1[\"class\"].value_counts() "
   ]
  },
  {
   "cell_type": "code",
   "execution_count": 162,
   "metadata": {},
   "outputs": [
    {
     "data": {
      "text/plain": [
       "(489, 8)"
      ]
     },
     "execution_count": 162,
     "metadata": {},
     "output_type": "execute_result"
    }
   ],
   "source": [
    "data_dress = data_dress_1[data_dress_1[\"class\"].isin([\"red_party_wear\", \"blue_party_wear\"])] \n",
    "data_dress.shape"
   ]
  },
  {
   "attachments": {},
   "cell_type": "markdown",
   "metadata": {},
   "source": [
    "- custom object detection.v2-custom-objects.tensorflow"
   ]
  },
  {
   "cell_type": "code",
   "execution_count": 163,
   "metadata": {},
   "outputs": [
    {
     "data": {
      "text/plain": [
       "((570, 8), (57, 8), (25, 8))"
      ]
     },
     "execution_count": 163,
     "metadata": {},
     "output_type": "execute_result"
    }
   ],
   "source": [
    "train_df = pd.read_csv(\"../datasets/custom object detection.v2-custom-objects.tensorflow/train/_annotations.csv\")\n",
    "val_df = pd.read_csv(\"../datasets/custom object detection.v2-custom-objects.tensorflow/valid/_annotations.csv\")\n",
    "test_df = pd.read_csv(\"../datasets/custom object detection.v2-custom-objects.tensorflow/test/_annotations.csv\")\n",
    "\n",
    "train_df.shape, val_df.shape, test_df.shape"
   ]
  },
  {
   "cell_type": "code",
   "execution_count": 164,
   "metadata": {},
   "outputs": [
    {
     "data": {
      "text/plain": [
       "(652, 8)"
      ]
     },
     "execution_count": 164,
     "metadata": {},
     "output_type": "execute_result"
    }
   ],
   "source": [
    "data_dress_2 = pd.concat([\n",
    "    train_df, \n",
    "    val_df, \n",
    "    test_df\n",
    "])\n",
    "data_dress_2.shape "
   ]
  },
  {
   "cell_type": "code",
   "execution_count": 165,
   "metadata": {},
   "outputs": [
    {
     "data": {
      "text/plain": [
       "shirt     187\n",
       "dress     183\n",
       "rugs      161\n",
       "pillow    121\n",
       "Name: class, dtype: int64"
      ]
     },
     "execution_count": 165,
     "metadata": {},
     "output_type": "execute_result"
    }
   ],
   "source": [
    "data_dress_2[\"class\"].value_counts() "
   ]
  },
  {
   "cell_type": "code",
   "execution_count": 166,
   "metadata": {},
   "outputs": [
    {
     "data": {
      "text/plain": [
       "(183, 8)"
      ]
     },
     "execution_count": 166,
     "metadata": {},
     "output_type": "execute_result"
    }
   ],
   "source": [
    "data_dress_2 = data_dress_2[data_dress_2[\"class\"] == \"dress\"]\n",
    "data_dress_2.shape"
   ]
  },
  {
   "cell_type": "code",
   "execution_count": 167,
   "metadata": {},
   "outputs": [
    {
     "data": {
      "text/plain": [
       "(672, 8)"
      ]
     },
     "execution_count": 167,
     "metadata": {},
     "output_type": "execute_result"
    }
   ],
   "source": [
    "data_dress = pd.concat([\n",
    "    data_dress, \n",
    "    data_dress_2[data_dress_2[\"class\"] == \"dress\"] \n",
    "])\n",
    "\n",
    "data_dress.shape "
   ]
  },
  {
   "attachments": {},
   "cell_type": "markdown",
   "metadata": {},
   "source": [
    "- clothes.v3-v3.tensorflow"
   ]
  },
  {
   "cell_type": "code",
   "execution_count": 168,
   "metadata": {},
   "outputs": [
    {
     "data": {
      "text/plain": [
       "((1199, 8), (99, 8), (128, 8))"
      ]
     },
     "execution_count": 168,
     "metadata": {},
     "output_type": "execute_result"
    }
   ],
   "source": [
    "train_df = pd.read_csv(\"../datasets/clothes.v3-v3.tensorflow/train/_annotations.csv\")\n",
    "val_df = pd.read_csv(\"../datasets/clothes.v3-v3.tensorflow/valid/_annotations.csv\")\n",
    "test_df = pd.read_csv(\"../datasets/clothes.v3-v3.tensorflow/test/_annotations.csv\")\n",
    "\n",
    "train_df.shape, val_df.shape, test_df.shape"
   ]
  },
  {
   "cell_type": "code",
   "execution_count": 169,
   "metadata": {},
   "outputs": [
    {
     "data": {
      "text/plain": [
       "(1426, 8)"
      ]
     },
     "execution_count": 169,
     "metadata": {},
     "output_type": "execute_result"
    }
   ],
   "source": [
    "data_dress_3 = pd.concat([\n",
    "    train_df, \n",
    "    val_df, \n",
    "    test_df\n",
    "])\n",
    "data_dress_3.shape "
   ]
  },
  {
   "cell_type": "code",
   "execution_count": 170,
   "metadata": {},
   "outputs": [
    {
     "data": {
      "text/plain": [
       "clothes    1426\n",
       "Name: class, dtype: int64"
      ]
     },
     "execution_count": 170,
     "metadata": {},
     "output_type": "execute_result"
    }
   ],
   "source": [
    "data_dress_3[\"class\"].value_counts() "
   ]
  },
  {
   "cell_type": "code",
   "execution_count": 171,
   "metadata": {},
   "outputs": [
    {
     "data": {
      "text/plain": [
       "(2098, 8)"
      ]
     },
     "execution_count": 171,
     "metadata": {},
     "output_type": "execute_result"
    }
   ],
   "source": [
    "data_dress = pd.concat([\n",
    "    data_dress, \n",
    "    data_dress_3 \n",
    "])\n",
    "\n",
    "data_dress.shape "
   ]
  },
  {
   "cell_type": "code",
   "execution_count": 172,
   "metadata": {},
   "outputs": [],
   "source": [
    "data_dress[\"class\"] = \"dress\" "
   ]
  },
  {
   "cell_type": "code",
   "execution_count": 173,
   "metadata": {},
   "outputs": [],
   "source": [
    "data_dress = data_dress.sample(frac=1)"
   ]
  },
  {
   "attachments": {},
   "cell_type": "markdown",
   "metadata": {},
   "source": [
    "# Merge Data "
   ]
  },
  {
   "cell_type": "code",
   "execution_count": 174,
   "metadata": {},
   "outputs": [
    {
     "data": {
      "text/plain": [
       "((1798, 8), (300, 8))"
      ]
     },
     "execution_count": 174,
     "metadata": {},
     "output_type": "execute_result"
    }
   ],
   "source": [
    "data_dress_train = data_dress.iloc[:-300]\n",
    "data_dress_val = data_dress.iloc[-300:]\n",
    "\n",
    "data_dress_train.shape, data_dress_val.shape "
   ]
  },
  {
   "cell_type": "code",
   "execution_count": 175,
   "metadata": {},
   "outputs": [
    {
     "data": {
      "text/plain": [
       "((2803, 8), (300, 8))"
      ]
     },
     "execution_count": 175,
     "metadata": {},
     "output_type": "execute_result"
    }
   ],
   "source": [
    "bottom_data_train = bottom_data.iloc[:-300] \n",
    "bottom_data_val = bottom_data.iloc[-300:] \n",
    "\n",
    "bottom_data_train.shape, bottom_data_val.shape  "
   ]
  },
  {
   "cell_type": "code",
   "execution_count": 176,
   "metadata": {},
   "outputs": [
    {
     "data": {
      "text/plain": [
       "((2700, 8), (300, 8))"
      ]
     },
     "execution_count": 176,
     "metadata": {},
     "output_type": "execute_result"
    }
   ],
   "source": [
    "top_data_train = top_df.iloc[:-300] \n",
    "top_data_val = top_df.iloc[-300:] \n",
    "\n",
    "top_data_train.shape, top_data_val.shape  "
   ]
  },
  {
   "cell_type": "code",
   "execution_count": 177,
   "metadata": {},
   "outputs": [
    {
     "data": {
      "text/plain": [
       "((7301, 8), (900, 8))"
      ]
     },
     "execution_count": 177,
     "metadata": {},
     "output_type": "execute_result"
    }
   ],
   "source": [
    "train_data = pd.concat([\n",
    "    data_dress_train,\n",
    "    bottom_data_train, \n",
    "    top_data_train\n",
    "]).sample(frac=1).reset_index(drop=True) \n",
    "\n",
    "val_data = pd.concat([\n",
    "    data_dress_val,\n",
    "    bottom_data_val, \n",
    "    top_data_val\n",
    "]).sample(frac=1).reset_index(drop=True)  \n",
    "\n",
    "train_data.shape, val_data.shape "
   ]
  },
  {
   "cell_type": "code",
   "execution_count": 184,
   "metadata": {},
   "outputs": [],
   "source": [
    "train_data.to_csv(\"../datasets/traid_data_processed.csv\")\n",
    "val_data.to_csv(\"../datasets/val_data_processed.csv\") "
   ]
  },
  {
   "cell_type": "code",
   "execution_count": 116,
   "metadata": {},
   "outputs": [
    {
     "name": "stdout",
     "output_type": "stream",
     "text": [
      "z2229391143299_673ae70c49adec9eb5b6012d15b835b7_jpg.rf.9bfdff69d337663e2fc5e20e3a5fdc73.jpg\n"
     ]
    }
   ],
   "source": [
    "import os \n",
    "\n",
    "base_path = \"../datasets/data_merge/\"\n",
    "\n",
    "for index, row in train_data.iterrows():\n",
    "    print(os.path.join(base_path, ))\n",
    "    \n",
    "\n",
    "\n",
    "\n",
    "\n",
    "    break"
   ]
  },
  {
   "cell_type": "code",
   "execution_count": 189,
   "metadata": {},
   "outputs": [
    {
     "name": "stdout",
     "output_type": "stream",
     "text": [
      "Done saving annotations!\n"
     ]
    }
   ],
   "source": [
    "from prepare_data import parse_my_csv, modify_data \n",
    "\n",
    "train_dict = parse_my_csv(\"../datasets/traid_data_processed.csv\") \n",
    "modify_data(train_dict, \"../datasets/data_merge/\", '../datasets/data_processed_train/')"
   ]
  },
  {
   "cell_type": "code",
   "execution_count": null,
   "metadata": {},
   "outputs": [],
   "source": []
  }
 ],
 "metadata": {
  "kernelspec": {
   "display_name": "tf2_obj_api",
   "language": "python",
   "name": "python3"
  },
  "language_info": {
   "codemirror_mode": {
    "name": "ipython",
    "version": 3
   },
   "file_extension": ".py",
   "mimetype": "text/x-python",
   "name": "python",
   "nbconvert_exporter": "python",
   "pygments_lexer": "ipython3",
   "version": "3.8.16"
  },
  "orig_nbformat": 4,
  "vscode": {
   "interpreter": {
    "hash": "0813d3ab804f90ed6360cefa5a0d59953db8c53cd7c34f09ab6ac76715167647"
   }
  }
 },
 "nbformat": 4,
 "nbformat_minor": 2
}
