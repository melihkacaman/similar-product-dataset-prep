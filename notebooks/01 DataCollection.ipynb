{
 "cells": [
  {
   "attachments": {},
   "cell_type": "markdown",
   "metadata": {},
   "source": [
    "# Top Items "
   ]
  },
  {
   "cell_type": "code",
   "execution_count": 50,
   "metadata": {},
   "outputs": [
    {
     "data": {
      "text/plain": [
       "((2761, 8), (446, 8), (1402, 8))"
      ]
     },
     "execution_count": 50,
     "metadata": {},
     "output_type": "execute_result"
    }
   ],
   "source": [
    "import pandas as pd \n",
    "\n",
    "train_df = pd.read_csv(\"../datasets/clothes detect.v5i.tensorflow/train/_annotations.csv\") \n",
    "val_df = pd.read_csv(\"../datasets/clothes detect.v5i.tensorflow/valid/_annotations.csv\") \n",
    "test_df = pd.read_csv(\"../datasets/clothes detect.v5i.tensorflow/test/_annotations.csv\")  \n",
    "\n",
    "train_df.shape, val_df.shape, test_df.shape "
   ]
  },
  {
   "cell_type": "code",
   "execution_count": 51,
   "metadata": {},
   "outputs": [
    {
     "data": {
      "text/plain": [
       "(4609, 8)"
      ]
     },
     "execution_count": 51,
     "metadata": {},
     "output_type": "execute_result"
    }
   ],
   "source": [
    "data1_df = pd.concat([train_df, val_df, test_df]).reset_index(drop=True) \n",
    "data1_df.shape "
   ]
  },
  {
   "cell_type": "code",
   "execution_count": 52,
   "metadata": {},
   "outputs": [
    {
     "data": {
      "text/html": [
       "<div>\n",
       "<style scoped>\n",
       "    .dataframe tbody tr th:only-of-type {\n",
       "        vertical-align: middle;\n",
       "    }\n",
       "\n",
       "    .dataframe tbody tr th {\n",
       "        vertical-align: top;\n",
       "    }\n",
       "\n",
       "    .dataframe thead th {\n",
       "        text-align: right;\n",
       "    }\n",
       "</style>\n",
       "<table border=\"1\" class=\"dataframe\">\n",
       "  <thead>\n",
       "    <tr style=\"text-align: right;\">\n",
       "      <th></th>\n",
       "      <th>filename</th>\n",
       "      <th>width</th>\n",
       "      <th>height</th>\n",
       "      <th>class</th>\n",
       "      <th>xmin</th>\n",
       "      <th>ymin</th>\n",
       "      <th>xmax</th>\n",
       "      <th>ymax</th>\n",
       "    </tr>\n",
       "  </thead>\n",
       "  <tbody>\n",
       "    <tr>\n",
       "      <th>0</th>\n",
       "      <td>k211_jpg.rf.877137c915b2482e484056ceaa59f9a7.jpg</td>\n",
       "      <td>285</td>\n",
       "      <td>380</td>\n",
       "      <td>plain</td>\n",
       "      <td>99</td>\n",
       "      <td>53</td>\n",
       "      <td>264</td>\n",
       "      <td>306</td>\n",
       "    </tr>\n",
       "    <tr>\n",
       "      <th>1</th>\n",
       "      <td>g305_jpg.rf.8799784c02465ca48d0ca77460bb92fe.jpg</td>\n",
       "      <td>225</td>\n",
       "      <td>225</td>\n",
       "      <td>horizontal</td>\n",
       "      <td>30</td>\n",
       "      <td>7</td>\n",
       "      <td>191</td>\n",
       "      <td>187</td>\n",
       "    </tr>\n",
       "    <tr>\n",
       "      <th>2</th>\n",
       "      <td>e91_jpg.rf.87b04f7c00b5a8b7c288f79404684f5b.jpg</td>\n",
       "      <td>177</td>\n",
       "      <td>177</td>\n",
       "      <td>plaid</td>\n",
       "      <td>8</td>\n",
       "      <td>7</td>\n",
       "      <td>174</td>\n",
       "      <td>166</td>\n",
       "    </tr>\n",
       "    <tr>\n",
       "      <th>3</th>\n",
       "      <td>e293_jpg.rf.87c79d8c516672c91e9c8fca3c46bb48.jpg</td>\n",
       "      <td>198</td>\n",
       "      <td>254</td>\n",
       "      <td>plaid</td>\n",
       "      <td>5</td>\n",
       "      <td>19</td>\n",
       "      <td>189</td>\n",
       "      <td>226</td>\n",
       "    </tr>\n",
       "    <tr>\n",
       "      <th>4</th>\n",
       "      <td>i195_jpg.rf.87c9b5a0e68c7a5bfb6f6d40a8cf8352.jpg</td>\n",
       "      <td>206</td>\n",
       "      <td>244</td>\n",
       "      <td>plaid</td>\n",
       "      <td>15</td>\n",
       "      <td>13</td>\n",
       "      <td>195</td>\n",
       "      <td>228</td>\n",
       "    </tr>\n",
       "  </tbody>\n",
       "</table>\n",
       "</div>"
      ],
      "text/plain": [
       "                                           filename  width  height  \\\n",
       "0  k211_jpg.rf.877137c915b2482e484056ceaa59f9a7.jpg    285     380   \n",
       "1  g305_jpg.rf.8799784c02465ca48d0ca77460bb92fe.jpg    225     225   \n",
       "2   e91_jpg.rf.87b04f7c00b5a8b7c288f79404684f5b.jpg    177     177   \n",
       "3  e293_jpg.rf.87c79d8c516672c91e9c8fca3c46bb48.jpg    198     254   \n",
       "4  i195_jpg.rf.87c9b5a0e68c7a5bfb6f6d40a8cf8352.jpg    206     244   \n",
       "\n",
       "        class  xmin  ymin  xmax  ymax  \n",
       "0       plain    99    53   264   306  \n",
       "1  horizontal    30     7   191   187  \n",
       "2       plaid     8     7   174   166  \n",
       "3       plaid     5    19   189   226  \n",
       "4       plaid    15    13   195   228  "
      ]
     },
     "execution_count": 52,
     "metadata": {},
     "output_type": "execute_result"
    }
   ],
   "source": [
    "data1_df.head() "
   ]
  },
  {
   "cell_type": "code",
   "execution_count": 53,
   "metadata": {},
   "outputs": [
    {
     "data": {
      "text/plain": [
       "plain         1049\n",
       "plaid         1010\n",
       "horizontal     960\n",
       "vertical       808\n",
       "block          782\n",
       "Name: class, dtype: int64"
      ]
     },
     "execution_count": 53,
     "metadata": {},
     "output_type": "execute_result"
    }
   ],
   "source": [
    "data1_df['class'].value_counts() "
   ]
  },
  {
   "cell_type": "code",
   "execution_count": 54,
   "metadata": {},
   "outputs": [
    {
     "data": {
      "text/html": [
       "<div>\n",
       "<style scoped>\n",
       "    .dataframe tbody tr th:only-of-type {\n",
       "        vertical-align: middle;\n",
       "    }\n",
       "\n",
       "    .dataframe tbody tr th {\n",
       "        vertical-align: top;\n",
       "    }\n",
       "\n",
       "    .dataframe thead th {\n",
       "        text-align: right;\n",
       "    }\n",
       "</style>\n",
       "<table border=\"1\" class=\"dataframe\">\n",
       "  <thead>\n",
       "    <tr style=\"text-align: right;\">\n",
       "      <th></th>\n",
       "      <th>filename</th>\n",
       "      <th>width</th>\n",
       "      <th>height</th>\n",
       "      <th>class</th>\n",
       "      <th>xmin</th>\n",
       "      <th>ymin</th>\n",
       "      <th>xmax</th>\n",
       "      <th>ymax</th>\n",
       "    </tr>\n",
       "  </thead>\n",
       "  <tbody>\n",
       "    <tr>\n",
       "      <th>2000</th>\n",
       "      <td>b54_jpg.rf.41457deb40bebc866d90bc882278feb6.jpg</td>\n",
       "      <td>194</td>\n",
       "      <td>259</td>\n",
       "      <td>plain</td>\n",
       "      <td>42</td>\n",
       "      <td>60</td>\n",
       "      <td>149</td>\n",
       "      <td>215</td>\n",
       "    </tr>\n",
       "    <tr>\n",
       "      <th>388</th>\n",
       "      <td>c139_jpg.rf.aa6957ac847d103289615c2c7b1de718.jpg</td>\n",
       "      <td>183</td>\n",
       "      <td>275</td>\n",
       "      <td>plain</td>\n",
       "      <td>29</td>\n",
       "      <td>60</td>\n",
       "      <td>162</td>\n",
       "      <td>216</td>\n",
       "    </tr>\n",
       "    <tr>\n",
       "      <th>1756</th>\n",
       "      <td>b206_jpg.rf.2ca877edca1eda7612f86ab3333bfd23.jpg</td>\n",
       "      <td>238</td>\n",
       "      <td>212</td>\n",
       "      <td>plain</td>\n",
       "      <td>70</td>\n",
       "      <td>46</td>\n",
       "      <td>175</td>\n",
       "      <td>203</td>\n",
       "    </tr>\n",
       "    <tr>\n",
       "      <th>337</th>\n",
       "      <td>c268_jpg.rf.a8f7c0e817f535dcb8f18a1752ebeed0.jpg</td>\n",
       "      <td>225</td>\n",
       "      <td>225</td>\n",
       "      <td>plain</td>\n",
       "      <td>66</td>\n",
       "      <td>52</td>\n",
       "      <td>167</td>\n",
       "      <td>197</td>\n",
       "    </tr>\n",
       "    <tr>\n",
       "      <th>2099</th>\n",
       "      <td>b308_jpg.rf.4b715535a4b2d34f4a7f119f3561e3fa.jpg</td>\n",
       "      <td>198</td>\n",
       "      <td>254</td>\n",
       "      <td>plain</td>\n",
       "      <td>32</td>\n",
       "      <td>20</td>\n",
       "      <td>155</td>\n",
       "      <td>184</td>\n",
       "    </tr>\n",
       "  </tbody>\n",
       "</table>\n",
       "</div>"
      ],
      "text/plain": [
       "                                              filename width height  class  \\\n",
       "2000   b54_jpg.rf.41457deb40bebc866d90bc882278feb6.jpg   194    259  plain   \n",
       "388   c139_jpg.rf.aa6957ac847d103289615c2c7b1de718.jpg   183    275  plain   \n",
       "1756  b206_jpg.rf.2ca877edca1eda7612f86ab3333bfd23.jpg   238    212  plain   \n",
       "337   c268_jpg.rf.a8f7c0e817f535dcb8f18a1752ebeed0.jpg   225    225  plain   \n",
       "2099  b308_jpg.rf.4b715535a4b2d34f4a7f119f3561e3fa.jpg   198    254  plain   \n",
       "\n",
       "     xmin ymin xmax ymax  \n",
       "2000   42   60  149  215  \n",
       "388    29   60  162  216  \n",
       "1756   70   46  175  203  \n",
       "337    66   52  167  197  \n",
       "2099   32   20  155  184  "
      ]
     },
     "execution_count": 54,
     "metadata": {},
     "output_type": "execute_result"
    }
   ],
   "source": [
    "top_df = pd.DataFrame(columns=data1_df.columns) \n",
    "for idx in data1_df['class'].value_counts().index: \n",
    "    top_df = pd.concat([\n",
    "        top_df, \n",
    "        data1_df[data1_df['class'] == idx].sample(n=600)\n",
    "    ])\n",
    "\n",
    "top_df.head() "
   ]
  },
  {
   "cell_type": "code",
   "execution_count": 55,
   "metadata": {},
   "outputs": [
    {
     "data": {
      "text/plain": [
       "plain         600\n",
       "plaid         600\n",
       "horizontal    600\n",
       "vertical      600\n",
       "block         600\n",
       "Name: class, dtype: int64"
      ]
     },
     "execution_count": 55,
     "metadata": {},
     "output_type": "execute_result"
    }
   ],
   "source": [
    "top_df['class'].value_counts() "
   ]
  },
  {
   "attachments": {},
   "cell_type": "markdown",
   "metadata": {},
   "source": [
    "# Bottom Items \n",
    "- new_clothesYOLO.v1-clothing_pascal_yolo_2022-04-22.tensorflow"
   ]
  },
  {
   "cell_type": "code",
   "execution_count": 56,
   "metadata": {},
   "outputs": [
    {
     "data": {
      "text/plain": [
       "((323, 8), (87, 8), (47, 8))"
      ]
     },
     "execution_count": 56,
     "metadata": {},
     "output_type": "execute_result"
    }
   ],
   "source": [
    "train_df = pd.read_csv(\"../datasets/new_clothesYOLO.v1-clothing_pascal_yolo_2022-04-22.tensorflow/train/_annotations.csv\")\n",
    "val_df = pd.read_csv(\"../datasets/new_clothesYOLO.v1-clothing_pascal_yolo_2022-04-22.tensorflow/valid/_annotations.csv\")\n",
    "test_df = pd.read_csv(\"../datasets/new_clothesYOLO.v1-clothing_pascal_yolo_2022-04-22.tensorflow/test/_annotations.csv\")\n",
    "\n",
    "train_df.shape, val_df.shape, test_df.shape"
   ]
  },
  {
   "cell_type": "code",
   "execution_count": 57,
   "metadata": {},
   "outputs": [],
   "source": [
    "data2_df = pd.concat([\n",
    "    train_df, \n",
    "    val_df, \n",
    "    test_df\n",
    "])"
   ]
  },
  {
   "cell_type": "code",
   "execution_count": 58,
   "metadata": {},
   "outputs": [
    {
     "data": {
      "text/plain": [
       "Tops          54\n",
       "Jeans         54\n",
       "Trousers      54\n",
       "Shirts        53\n",
       "Skirts        53\n",
       "sunglasses    49\n",
       "Jackets       49\n",
       "Tshirts       46\n",
       "Shoes         45\n",
       "Name: class, dtype: int64"
      ]
     },
     "execution_count": 58,
     "metadata": {},
     "output_type": "execute_result"
    }
   ],
   "source": [
    "data2_df[\"class\"].value_counts() "
   ]
  },
  {
   "cell_type": "code",
   "execution_count": 59,
   "metadata": {},
   "outputs": [
    {
     "data": {
      "text/plain": [
       "((54, 8), (53, 8), (54, 8))"
      ]
     },
     "execution_count": 59,
     "metadata": {},
     "output_type": "execute_result"
    }
   ],
   "source": [
    "data2_df[data2_df[\"class\"] == \"Jeans\"].shape, data2_df[data2_df[\"class\"] == \"Skirts\"].shape, data2_df[data2_df[\"class\"] == \"Trousers\"].shape, "
   ]
  },
  {
   "cell_type": "code",
   "execution_count": 60,
   "metadata": {},
   "outputs": [],
   "source": [
    "data2_df = data2_df[data2_df[\"class\"].isin([\"Jeans\", \"Skirts\", \"Trousers\"])]"
   ]
  },
  {
   "attachments": {},
   "cell_type": "markdown",
   "metadata": {},
   "source": [
    "- Kursach.v3i.tensorflow"
   ]
  },
  {
   "cell_type": "code",
   "execution_count": 61,
   "metadata": {},
   "outputs": [
    {
     "data": {
      "text/plain": [
       "((19158, 8), (1592, 8), (459, 8))"
      ]
     },
     "execution_count": 61,
     "metadata": {},
     "output_type": "execute_result"
    }
   ],
   "source": [
    "train_df = pd.read_csv(\"../datasets/Kursach.v3i.tensorflow/train/_annotations.csv\")\n",
    "val_df = pd.read_csv(\"../datasets/Kursach.v3i.tensorflow/valid/_annotations.csv\")\n",
    "test_df = pd.read_csv(\"../datasets/Kursach.v3i.tensorflow/test/_annotations.csv\")\n",
    "\n",
    "train_df.shape, val_df.shape, test_df.shape"
   ]
  },
  {
   "cell_type": "code",
   "execution_count": 62,
   "metadata": {},
   "outputs": [
    {
     "data": {
      "text/plain": [
       "(21209, 8)"
      ]
     },
     "execution_count": 62,
     "metadata": {},
     "output_type": "execute_result"
    }
   ],
   "source": [
    "data3_df = pd.concat([\n",
    "    train_df, \n",
    "    val_df, \n",
    "    test_df\n",
    "])\n",
    "\n",
    "data3_df.shape "
   ]
  },
  {
   "cell_type": "code",
   "execution_count": 63,
   "metadata": {},
   "outputs": [
    {
     "data": {
      "text/plain": [
       "((326, 8), (2077, 8), (4, 8), (84, 8))"
      ]
     },
     "execution_count": 63,
     "metadata": {},
     "output_type": "execute_result"
    }
   ],
   "source": [
    "data3_df[data3_df[\"class\"] == 'pans'].shape, data3_df[data3_df[\"class\"] == 'pantalones'].shape, data3_df[data3_df[\"class\"] == 'leggins'].shape,  data3_df[data3_df[\"class\"] == 'short'].shape,"
   ]
  },
  {
   "cell_type": "code",
   "execution_count": 64,
   "metadata": {},
   "outputs": [
    {
     "data": {
      "text/plain": [
       "(2326, 8)"
      ]
     },
     "execution_count": 64,
     "metadata": {},
     "output_type": "execute_result"
    }
   ],
   "source": [
    "data2_df = pd.concat([\n",
    "    data2_df,\n",
    "    data3_df[data3_df[\"class\"] == 'pantalones'],\n",
    "    data3_df[data3_df[\"class\"] == 'leggins'],\n",
    "    data3_df[data3_df[\"class\"] == 'short']\n",
    "]) \n",
    "\n",
    "data2_df.shape "
   ]
  },
  {
   "attachments": {},
   "cell_type": "markdown",
   "metadata": {},
   "source": [
    "- 1.v2i.tensorflow"
   ]
  },
  {
   "cell_type": "code",
   "execution_count": 65,
   "metadata": {},
   "outputs": [
    {
     "data": {
      "text/plain": [
       "((1593, 8), (934, 8))"
      ]
     },
     "execution_count": 65,
     "metadata": {},
     "output_type": "execute_result"
    }
   ],
   "source": [
    "train_df = pd.read_csv(\"../datasets/1.v2i.tensorflow/train/_annotations.csv\")\n",
    "test_df = pd.read_csv(\"../datasets/1.v2i.tensorflow/test/_annotations.csv\")\n",
    "\n",
    "train_df.shape, test_df.shape"
   ]
  },
  {
   "cell_type": "code",
   "execution_count": 66,
   "metadata": {},
   "outputs": [
    {
     "data": {
      "text/plain": [
       "(2527, 8)"
      ]
     },
     "execution_count": 66,
     "metadata": {},
     "output_type": "execute_result"
    }
   ],
   "source": [
    "data4_df = pd.concat([\n",
    "    train_df, \n",
    "    test_df\n",
    "])\n",
    "\n",
    "data4_df.shape "
   ]
  },
  {
   "cell_type": "code",
   "execution_count": 67,
   "metadata": {},
   "outputs": [
    {
     "data": {
      "text/plain": [
       "shoes                 547\n",
       "halfsleeve_t-shirt    284\n",
       "fullsleeve_hoodies    251\n",
       "red_party_wear        250\n",
       "blue_party_wear       239\n",
       "sleeveless            168\n",
       "women                 147\n",
       "roundneck             114\n",
       "blue_denim            106\n",
       "men                    89\n",
       "black_pants            69\n",
       "black_suit             56\n",
       "vneck                  55\n",
       "grey_suit              45\n",
       "brown_suit             44\n",
       "blue_suit              36\n",
       "yellow_suit            23\n",
       "denim                   2\n",
       "black_denim             1\n",
       "gery_suit               1\n",
       "Name: class, dtype: int64"
      ]
     },
     "execution_count": 67,
     "metadata": {},
     "output_type": "execute_result"
    }
   ],
   "source": [
    "data4_df[\"class\"].value_counts() "
   ]
  },
  {
   "cell_type": "code",
   "execution_count": 68,
   "metadata": {},
   "outputs": [
    {
     "data": {
      "text/plain": [
       "(2503, 8)"
      ]
     },
     "execution_count": 68,
     "metadata": {},
     "output_type": "execute_result"
    }
   ],
   "source": [
    "data2_df = pd.concat([\n",
    "    data2_df, \n",
    "    data4_df[data4_df[\"class\"].isin([\"blue_denim\", \"black_pants\", \"denim\"])] \n",
    "])\n",
    "\n",
    "data2_df.shape "
   ]
  },
  {
   "attachments": {},
   "cell_type": "markdown",
   "metadata": {},
   "source": [
    "- task1.v2i.tensorflow"
   ]
  },
  {
   "cell_type": "code",
   "execution_count": 69,
   "metadata": {},
   "outputs": [
    {
     "data": {
      "text/plain": [
       "((2125, 8), (232, 8), (125, 8))"
      ]
     },
     "execution_count": 69,
     "metadata": {},
     "output_type": "execute_result"
    }
   ],
   "source": [
    "train_df = pd.read_csv(\"../datasets/task1.v2i.tensorflow/train/_annotations.csv\")\n",
    "val_df = pd.read_csv(\"../datasets/task1.v2i.tensorflow/valid/_annotations.csv\")\n",
    "test_df = pd.read_csv(\"../datasets/task1.v2i.tensorflow/test/_annotations.csv\")\n",
    "\n",
    "train_df.shape, val_df.shape, test_df.shape"
   ]
  },
  {
   "cell_type": "code",
   "execution_count": 70,
   "metadata": {},
   "outputs": [
    {
     "data": {
      "text/plain": [
       "(2482, 8)"
      ]
     },
     "execution_count": 70,
     "metadata": {},
     "output_type": "execute_result"
    }
   ],
   "source": [
    "data5_df = pd.concat([\n",
    "    train_df, \n",
    "    val_df, \n",
    "    test_df\n",
    "])\n",
    "\n",
    "data5_df.shape "
   ]
  },
  {
   "cell_type": "code",
   "execution_count": 71,
   "metadata": {},
   "outputs": [
    {
     "data": {
      "text/plain": [
       "cabinet         300\n",
       "monitor         245\n",
       "orange-pants    239\n",
       "white-pants     237\n",
       "purple-pants    213\n",
       "black-pants     212\n",
       "blue-pants      211\n",
       "red-pants       211\n",
       "yellow-pants    206\n",
       "green-pants     204\n",
       "grey-pants      204\n",
       "Name: class, dtype: int64"
      ]
     },
     "execution_count": 71,
     "metadata": {},
     "output_type": "execute_result"
    }
   ],
   "source": [
    "data5_df[\"class\"].value_counts()"
   ]
  },
  {
   "cell_type": "code",
   "execution_count": 72,
   "metadata": {},
   "outputs": [],
   "source": [
    "data5_df = data5_df[data5_df[\"class\"].isin(list(filter(lambda x: \"pants\" in x ,data5_df[\"class\"].value_counts().index.to_numpy())))] "
   ]
  },
  {
   "cell_type": "code",
   "execution_count": 73,
   "metadata": {},
   "outputs": [
    {
     "data": {
      "text/plain": [
       "(3103, 8)"
      ]
     },
     "execution_count": 73,
     "metadata": {},
     "output_type": "execute_result"
    }
   ],
   "source": [
    "data2_df = pd.concat([\n",
    "    data2_df,\n",
    "    data5_df.sample(n=600)    \n",
    "])\n",
    "\n",
    "data2_df.shape "
   ]
  },
  {
   "attachments": {},
   "cell_type": "markdown",
   "metadata": {},
   "source": [
    "# Dress Items "
   ]
  },
  {
   "cell_type": "markdown",
   "metadata": {},
   "source": [
    "- 1.v2i.tensorflow"
   ]
  },
  {
   "cell_type": "code",
   "execution_count": 74,
   "metadata": {},
   "outputs": [
    {
     "data": {
      "text/plain": [
       "((1593, 8), (934, 8))"
      ]
     },
     "execution_count": 74,
     "metadata": {},
     "output_type": "execute_result"
    }
   ],
   "source": [
    "train_df = pd.read_csv(\"../datasets/1.v2i.tensorflow/train/_annotations.csv\")\n",
    "test_df = pd.read_csv(\"../datasets/1.v2i.tensorflow/test/_annotations.csv\")\n",
    "\n",
    "train_df.shape, test_df.shape"
   ]
  },
  {
   "cell_type": "code",
   "execution_count": 75,
   "metadata": {},
   "outputs": [
    {
     "data": {
      "text/plain": [
       "(2527, 8)"
      ]
     },
     "execution_count": 75,
     "metadata": {},
     "output_type": "execute_result"
    }
   ],
   "source": [
    "data_dress_1 = pd.concat([train_df, \n",
    "                          test_df]) \n",
    "data_dress_1.shape "
   ]
  },
  {
   "cell_type": "code",
   "execution_count": 77,
   "metadata": {},
   "outputs": [
    {
     "data": {
      "text/plain": [
       "shoes                 547\n",
       "halfsleeve_t-shirt    284\n",
       "fullsleeve_hoodies    251\n",
       "red_party_wear        250\n",
       "blue_party_wear       239\n",
       "sleeveless            168\n",
       "women                 147\n",
       "roundneck             114\n",
       "blue_denim            106\n",
       "men                    89\n",
       "black_pants            69\n",
       "black_suit             56\n",
       "vneck                  55\n",
       "grey_suit              45\n",
       "brown_suit             44\n",
       "blue_suit              36\n",
       "yellow_suit            23\n",
       "denim                   2\n",
       "black_denim             1\n",
       "gery_suit               1\n",
       "Name: class, dtype: int64"
      ]
     },
     "execution_count": 77,
     "metadata": {},
     "output_type": "execute_result"
    }
   ],
   "source": [
    "data_dress_1[\"class\"].value_counts() "
   ]
  },
  {
   "cell_type": "code",
   "execution_count": 78,
   "metadata": {},
   "outputs": [
    {
     "data": {
      "text/plain": [
       "(489, 8)"
      ]
     },
     "execution_count": 78,
     "metadata": {},
     "output_type": "execute_result"
    }
   ],
   "source": [
    "data_dress = data_dress_1[data_dress_1[\"class\"].isin([\"red_party_wear\", \"blue_party_wear\"])] \n",
    "data_dress.shape"
   ]
  },
  {
   "cell_type": "code",
   "execution_count": null,
   "metadata": {},
   "outputs": [],
   "source": []
  }
 ],
 "metadata": {
  "kernelspec": {
   "display_name": "tf2_obj_api",
   "language": "python",
   "name": "python3"
  },
  "language_info": {
   "codemirror_mode": {
    "name": "ipython",
    "version": 3
   },
   "file_extension": ".py",
   "mimetype": "text/x-python",
   "name": "python",
   "nbconvert_exporter": "python",
   "pygments_lexer": "ipython3",
   "version": "3.8.16"
  },
  "orig_nbformat": 4,
  "vscode": {
   "interpreter": {
    "hash": "0813d3ab804f90ed6360cefa5a0d59953db8c53cd7c34f09ab6ac76715167647"
   }
  }
 },
 "nbformat": 4,
 "nbformat_minor": 2
}
