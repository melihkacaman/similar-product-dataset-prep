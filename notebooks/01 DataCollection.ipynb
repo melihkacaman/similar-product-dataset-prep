{
 "cells": [
  {
   "cell_type": "code",
   "execution_count": 3,
   "metadata": {},
   "outputs": [
    {
     "data": {
      "text/plain": [
       "((2761, 8), (446, 8), (1402, 8))"
      ]
     },
     "execution_count": 3,
     "metadata": {},
     "output_type": "execute_result"
    }
   ],
   "source": [
    "import pandas as pd \n",
    "\n",
    "train_df = pd.read_csv(\"../datasets/clothes detect.v5i.tensorflow/train/_annotations.csv\") \n",
    "val_df = pd.read_csv(\"../datasets/clothes detect.v5i.tensorflow/valid/_annotations.csv\") \n",
    "test_df = pd.read_csv(\"../datasets/clothes detect.v5i.tensorflow/test/_annotations.csv\")  \n",
    "\n",
    "train_df.shape, val_df.shape, test_df.shape "
   ]
  },
  {
   "cell_type": "code",
   "execution_count": 4,
   "metadata": {},
   "outputs": [
    {
     "data": {
      "text/plain": [
       "(4609, 8)"
      ]
     },
     "execution_count": 4,
     "metadata": {},
     "output_type": "execute_result"
    }
   ],
   "source": [
    "data1_df = pd.concat([train_df, val_df, test_df]).reset_index(drop=True) \n",
    "data1_df.shape "
   ]
  },
  {
   "cell_type": "code",
   "execution_count": 5,
   "metadata": {},
   "outputs": [
    {
     "data": {
      "text/html": [
       "<div>\n",
       "<style scoped>\n",
       "    .dataframe tbody tr th:only-of-type {\n",
       "        vertical-align: middle;\n",
       "    }\n",
       "\n",
       "    .dataframe tbody tr th {\n",
       "        vertical-align: top;\n",
       "    }\n",
       "\n",
       "    .dataframe thead th {\n",
       "        text-align: right;\n",
       "    }\n",
       "</style>\n",
       "<table border=\"1\" class=\"dataframe\">\n",
       "  <thead>\n",
       "    <tr style=\"text-align: right;\">\n",
       "      <th></th>\n",
       "      <th>filename</th>\n",
       "      <th>width</th>\n",
       "      <th>height</th>\n",
       "      <th>class</th>\n",
       "      <th>xmin</th>\n",
       "      <th>ymin</th>\n",
       "      <th>xmax</th>\n",
       "      <th>ymax</th>\n",
       "    </tr>\n",
       "  </thead>\n",
       "  <tbody>\n",
       "    <tr>\n",
       "      <th>0</th>\n",
       "      <td>k211_jpg.rf.877137c915b2482e484056ceaa59f9a7.jpg</td>\n",
       "      <td>285</td>\n",
       "      <td>380</td>\n",
       "      <td>plain</td>\n",
       "      <td>99</td>\n",
       "      <td>53</td>\n",
       "      <td>264</td>\n",
       "      <td>306</td>\n",
       "    </tr>\n",
       "    <tr>\n",
       "      <th>1</th>\n",
       "      <td>g305_jpg.rf.8799784c02465ca48d0ca77460bb92fe.jpg</td>\n",
       "      <td>225</td>\n",
       "      <td>225</td>\n",
       "      <td>horizontal</td>\n",
       "      <td>30</td>\n",
       "      <td>7</td>\n",
       "      <td>191</td>\n",
       "      <td>187</td>\n",
       "    </tr>\n",
       "    <tr>\n",
       "      <th>2</th>\n",
       "      <td>e91_jpg.rf.87b04f7c00b5a8b7c288f79404684f5b.jpg</td>\n",
       "      <td>177</td>\n",
       "      <td>177</td>\n",
       "      <td>plaid</td>\n",
       "      <td>8</td>\n",
       "      <td>7</td>\n",
       "      <td>174</td>\n",
       "      <td>166</td>\n",
       "    </tr>\n",
       "    <tr>\n",
       "      <th>3</th>\n",
       "      <td>e293_jpg.rf.87c79d8c516672c91e9c8fca3c46bb48.jpg</td>\n",
       "      <td>198</td>\n",
       "      <td>254</td>\n",
       "      <td>plaid</td>\n",
       "      <td>5</td>\n",
       "      <td>19</td>\n",
       "      <td>189</td>\n",
       "      <td>226</td>\n",
       "    </tr>\n",
       "    <tr>\n",
       "      <th>4</th>\n",
       "      <td>i195_jpg.rf.87c9b5a0e68c7a5bfb6f6d40a8cf8352.jpg</td>\n",
       "      <td>206</td>\n",
       "      <td>244</td>\n",
       "      <td>plaid</td>\n",
       "      <td>15</td>\n",
       "      <td>13</td>\n",
       "      <td>195</td>\n",
       "      <td>228</td>\n",
       "    </tr>\n",
       "  </tbody>\n",
       "</table>\n",
       "</div>"
      ],
      "text/plain": [
       "                                           filename  width  height  \\\n",
       "0  k211_jpg.rf.877137c915b2482e484056ceaa59f9a7.jpg    285     380   \n",
       "1  g305_jpg.rf.8799784c02465ca48d0ca77460bb92fe.jpg    225     225   \n",
       "2   e91_jpg.rf.87b04f7c00b5a8b7c288f79404684f5b.jpg    177     177   \n",
       "3  e293_jpg.rf.87c79d8c516672c91e9c8fca3c46bb48.jpg    198     254   \n",
       "4  i195_jpg.rf.87c9b5a0e68c7a5bfb6f6d40a8cf8352.jpg    206     244   \n",
       "\n",
       "        class  xmin  ymin  xmax  ymax  \n",
       "0       plain    99    53   264   306  \n",
       "1  horizontal    30     7   191   187  \n",
       "2       plaid     8     7   174   166  \n",
       "3       plaid     5    19   189   226  \n",
       "4       plaid    15    13   195   228  "
      ]
     },
     "execution_count": 5,
     "metadata": {},
     "output_type": "execute_result"
    }
   ],
   "source": [
    "data1_df.head() "
   ]
  },
  {
   "cell_type": "code",
   "execution_count": 7,
   "metadata": {},
   "outputs": [
    {
     "data": {
      "text/plain": [
       "plain         1049\n",
       "plaid         1010\n",
       "horizontal     960\n",
       "vertical       808\n",
       "block          782\n",
       "Name: class, dtype: int64"
      ]
     },
     "execution_count": 7,
     "metadata": {},
     "output_type": "execute_result"
    }
   ],
   "source": [
    "data1_df['class'].value_counts() "
   ]
  },
  {
   "cell_type": "code",
   "execution_count": 16,
   "metadata": {},
   "outputs": [
    {
     "data": {
      "text/html": [
       "<div>\n",
       "<style scoped>\n",
       "    .dataframe tbody tr th:only-of-type {\n",
       "        vertical-align: middle;\n",
       "    }\n",
       "\n",
       "    .dataframe tbody tr th {\n",
       "        vertical-align: top;\n",
       "    }\n",
       "\n",
       "    .dataframe thead th {\n",
       "        text-align: right;\n",
       "    }\n",
       "</style>\n",
       "<table border=\"1\" class=\"dataframe\">\n",
       "  <thead>\n",
       "    <tr style=\"text-align: right;\">\n",
       "      <th></th>\n",
       "      <th>filename</th>\n",
       "      <th>width</th>\n",
       "      <th>height</th>\n",
       "      <th>class</th>\n",
       "      <th>xmin</th>\n",
       "      <th>ymin</th>\n",
       "      <th>xmax</th>\n",
       "      <th>ymax</th>\n",
       "    </tr>\n",
       "  </thead>\n",
       "  <tbody>\n",
       "    <tr>\n",
       "      <th>2817</th>\n",
       "      <td>c175_jpg.rf.257805e089d9ea8d659726ca6f0861c7.jpg</td>\n",
       "      <td>194</td>\n",
       "      <td>259</td>\n",
       "      <td>plain</td>\n",
       "      <td>21</td>\n",
       "      <td>75</td>\n",
       "      <td>184</td>\n",
       "      <td>259</td>\n",
       "    </tr>\n",
       "    <tr>\n",
       "      <th>4257</th>\n",
       "      <td>c93_jpg.rf.293793c21e5f9a131f14ef59fadd29a3.jpg</td>\n",
       "      <td>195</td>\n",
       "      <td>259</td>\n",
       "      <td>plain</td>\n",
       "      <td>9</td>\n",
       "      <td>31</td>\n",
       "      <td>188</td>\n",
       "      <td>227</td>\n",
       "    </tr>\n",
       "    <tr>\n",
       "      <th>2200</th>\n",
       "      <td>b73_jpg.rf.c163106e88eb680b597deec722a083e1.jpg</td>\n",
       "      <td>194</td>\n",
       "      <td>259</td>\n",
       "      <td>plain</td>\n",
       "      <td>31</td>\n",
       "      <td>58</td>\n",
       "      <td>152</td>\n",
       "      <td>206</td>\n",
       "    </tr>\n",
       "    <tr>\n",
       "      <th>1079</th>\n",
       "      <td>b399_jpg.rf.5925da243e7c349ebe152cc04cf865ea.jpg</td>\n",
       "      <td>188</td>\n",
       "      <td>268</td>\n",
       "      <td>plain</td>\n",
       "      <td>37</td>\n",
       "      <td>79</td>\n",
       "      <td>144</td>\n",
       "      <td>226</td>\n",
       "    </tr>\n",
       "    <tr>\n",
       "      <th>1911</th>\n",
       "      <td>k253_jpg.rf.3928b6bbda4171aca2a4175c6e6fde06.jpg</td>\n",
       "      <td>285</td>\n",
       "      <td>380</td>\n",
       "      <td>plain</td>\n",
       "      <td>39</td>\n",
       "      <td>144</td>\n",
       "      <td>171</td>\n",
       "      <td>256</td>\n",
       "    </tr>\n",
       "  </tbody>\n",
       "</table>\n",
       "</div>"
      ],
      "text/plain": [
       "                                              filename width height  class  \\\n",
       "2817  c175_jpg.rf.257805e089d9ea8d659726ca6f0861c7.jpg   194    259  plain   \n",
       "4257   c93_jpg.rf.293793c21e5f9a131f14ef59fadd29a3.jpg   195    259  plain   \n",
       "2200   b73_jpg.rf.c163106e88eb680b597deec722a083e1.jpg   194    259  plain   \n",
       "1079  b399_jpg.rf.5925da243e7c349ebe152cc04cf865ea.jpg   188    268  plain   \n",
       "1911  k253_jpg.rf.3928b6bbda4171aca2a4175c6e6fde06.jpg   285    380  plain   \n",
       "\n",
       "     xmin ymin xmax ymax  \n",
       "2817   21   75  184  259  \n",
       "4257    9   31  188  227  \n",
       "2200   31   58  152  206  \n",
       "1079   37   79  144  226  \n",
       "1911   39  144  171  256  "
      ]
     },
     "execution_count": 16,
     "metadata": {},
     "output_type": "execute_result"
    }
   ],
   "source": [
    "top_df = pd.DataFrame(columns=data1_df.columns) \n",
    "for idx in data1_df['class'].value_counts().index: \n",
    "    top_df = pd.concat([\n",
    "        top_df, \n",
    "        data1_df[data1_df['class'] == idx].sample(n=600)\n",
    "    ])\n",
    "\n",
    "top_df.head() "
   ]
  },
  {
   "cell_type": "code",
   "execution_count": 18,
   "metadata": {},
   "outputs": [
    {
     "data": {
      "text/plain": [
       "plain         600\n",
       "plaid         600\n",
       "horizontal    600\n",
       "vertical      600\n",
       "block         600\n",
       "Name: class, dtype: int64"
      ]
     },
     "execution_count": 18,
     "metadata": {},
     "output_type": "execute_result"
    }
   ],
   "source": [
    "top_df['class'].value_counts() "
   ]
  },
  {
   "cell_type": "code",
   "execution_count": null,
   "metadata": {},
   "outputs": [],
   "source": []
  }
 ],
 "metadata": {
  "kernelspec": {
   "display_name": "tf2_obj_api",
   "language": "python",
   "name": "python3"
  },
  "language_info": {
   "codemirror_mode": {
    "name": "ipython",
    "version": 3
   },
   "file_extension": ".py",
   "mimetype": "text/x-python",
   "name": "python",
   "nbconvert_exporter": "python",
   "pygments_lexer": "ipython3",
   "version": "3.8.16"
  },
  "orig_nbformat": 4,
  "vscode": {
   "interpreter": {
    "hash": "0813d3ab804f90ed6360cefa5a0d59953db8c53cd7c34f09ab6ac76715167647"
   }
  }
 },
 "nbformat": 4,
 "nbformat_minor": 2
}
